{
 "cells": [
  {
   "cell_type": "code",
   "execution_count": 1,
   "id": "e54e6969",
   "metadata": {},
   "outputs": [
    {
     "data": {
      "text/plain": [
       "'Hey soham , you are doing a great job making agents!'"
      ]
     },
     "execution_count": 1,
     "metadata": {},
     "output_type": "execute_result"
    }
   ],
   "source": [
    "from typing import TypedDict,Dict\n",
    "from langgraph.graph import StateGraph\n",
    "\n",
    "class AgentState(TypedDict):\n",
    "    name : str\n",
    "\n",
    "def complimentNode(state : AgentState) -> AgentState:\n",
    "    \"\"\"\n",
    "    A simple node that adds a greeting message to the state\n",
    "    \"\"\"\n",
    "    state['name'] = f\"Hey {state['name']} , you are doing a great job making agents!\"\n",
    "\n",
    "    return state\n",
    "\n",
    "graph = StateGraph(AgentState )\n",
    "\n",
    "graph.add_node(\"compliment\", complimentNode)\n",
    "\n",
    "graph.set_entry_point(\"compliment\")\n",
    "graph.set_finish_point(\"compliment\")\n",
    "\n",
    "app = graph.compile()\n",
    "\n",
    "ip = input(\"enter your name\")\n",
    "\n",
    "res = app.invoke({\"name\":ip})\n",
    "res['name']"
   ]
  }
 ],
 "metadata": {
  "kernelspec": {
   "display_name": "venv",
   "language": "python",
   "name": "python3"
  },
  "language_info": {
   "codemirror_mode": {
    "name": "ipython",
    "version": 3
   },
   "file_extension": ".py",
   "mimetype": "text/x-python",
   "name": "python",
   "nbconvert_exporter": "python",
   "pygments_lexer": "ipython3",
   "version": "3.11.0"
  }
 },
 "nbformat": 4,
 "nbformat_minor": 5
}
