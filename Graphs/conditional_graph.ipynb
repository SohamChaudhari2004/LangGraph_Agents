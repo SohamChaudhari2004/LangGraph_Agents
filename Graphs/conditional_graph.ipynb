{
 "cells": [
  {
   "cell_type": "code",
   "execution_count": 2,
   "id": "7dcb51d2",
   "metadata": {},
   "outputs": [],
   "source": [
    "from langgraph.graph import StateGraph, START , END\n",
    "from typing import Dict,TypedDict"
   ]
  },
  {
   "cell_type": "code",
   "execution_count": 3,
   "id": "a8e4b377",
   "metadata": {},
   "outputs": [],
   "source": [
    "class AgentState(TypedDict):\n",
    "    number1: int\n",
    "    operation : str\n",
    "    number2: int\n",
    "    finalNumber : int"
   ]
  },
  {
   "cell_type": "code",
   "execution_count": null,
   "id": "bf9dfa49",
   "metadata": {},
   "outputs": [],
   "source": [
    "def adder(state:AgentState) -> AgentState:\n",
    "    \"\"\" this is the function to add two numbers\"\"\"\n",
    "    state['finalNumber'] = state['number1'] + state['number2']\n",
    "\n",
    "    return state\n",
    "\n",
    "def subtractor(state:AgentState) -> AgentState:\n",
    "    \"\"\" this is the function to subtract two numbers\"\"\"\n",
    "    state['finalNumber'] = state['number1'] - state['number2']\n",
    "\n",
    "    return state\n",
    "\n",
    "def decide_next_node(state:AgentState) -> AgentState:\n",
    "    \"\"\"this function decides either to add or subtract\"\"\"\n",
    "    if state['operation'] == '+':\n",
    "        return \"addition_op\"\n",
    "    elif state['operation'] == '-':\n",
    "        return \"subt_op\""
   ]
  },
  {
   "cell_type": "code",
   "execution_count": 7,
   "id": "83ce16a9",
   "metadata": {},
   "outputs": [],
   "source": [
    "graph = StateGraph(AgentState)\n",
    "\n",
    "graph.add_node(\"router\" , lambda state:state)\n",
    "graph.add_node(\"adder\" , adder)\n",
    "graph.add_node(\"subtractor\" , subtractor)\n",
    "\n",
    "graph.add_edge(START , \"router\")\n",
    "graph.add_conditional_edges( \n",
    "    \"router\",\n",
    "    decide_next_node,\n",
    "    {\n",
    "        # EDGE : NODE\n",
    "        \"addition_op\" : \"adder\",\n",
    "        \"subt_op\" : \"subtractor\"\n",
    "    }\n",
    ")\n",
    "graph.add_edge(\"adder\" , END)\n",
    "graph.add_edge(\"subtractor\" , END)\n",
    "\n",
    "app = graph.compile()"
   ]
  },
  {
   "cell_type": "code",
   "execution_count": 8,
   "id": "a4486034",
   "metadata": {},
   "outputs": [
    {
     "data": {
      "image/png": "[encoded data removed]",
      "text/plain": [
       "<langgraph.graph.state.CompiledStateGraph object at 0x000001B8895A6850>"
      ]
     },
     "execution_count": 8,
     "metadata": {},
     "output_type": "execute_result"
    }
   ],
   "source": [
    "app"
   ]
  },
  {
   "cell_type": "code",
   "execution_count": 10,
   "id": "0b44e511",
   "metadata": {},
   "outputs": [
    {
     "data": {
      "text/plain": [
       "{'number1': 10, 'operation': '+', 'number2': 15, 'finalNumber': 25}"
      ]
     },
     "execution_count": 10,
     "metadata": {},
     "output_type": "execute_result"
    }
   ],
   "source": [
    "initial_state_1 = AgentState(number1=10, number2=15, operation='+')\n",
    "\n",
    "app.invoke(initial_state_1)"
   ]
  }
 ],
 "metadata": {
  "kernelspec": {
   "display_name": "venv",
   "language": "python",
   "name": "python3"
  },
  "language_info": {
   "codemirror_mode": {
    "name": "ipython",
    "version": 3
   },
   "file_extension": ".py",
   "mimetype": "text/x-python",
   "name": "python",
   "nbconvert_exporter": "python",
   "pygments_lexer": "ipython3",
   "version": "3.11.0"
  }
 },
 "nbformat": 4,
 "nbformat_minor": 5
}
